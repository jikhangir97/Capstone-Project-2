{
 "cells": [
  {
   "cell_type": "markdown",
   "metadata": {},
   "source": [
    "## Modeling"
   ]
  },
  {
   "cell_type": "code",
   "execution_count": 14,
   "metadata": {},
   "outputs": [],
   "source": [
    "import pandas as pd\n",
    "import matplotlib.pyplot as plt\n",
    "import numpy as np"
   ]
  },
  {
   "cell_type": "code",
   "execution_count": 15,
   "metadata": {},
   "outputs": [],
   "source": [
    "#read data from previous part\n",
    "df = pd.read_csv('data_eda.csv')"
   ]
  },
  {
   "cell_type": "code",
   "execution_count": 16,
   "metadata": {},
   "outputs": [
    {
     "data": {
      "text/html": [
       "<div>\n",
       "<style scoped>\n",
       "    .dataframe tbody tr th:only-of-type {\n",
       "        vertical-align: middle;\n",
       "    }\n",
       "\n",
       "    .dataframe tbody tr th {\n",
       "        vertical-align: top;\n",
       "    }\n",
       "\n",
       "    .dataframe thead th {\n",
       "        text-align: right;\n",
       "    }\n",
       "</style>\n",
       "<table border=\"1\" class=\"dataframe\">\n",
       "  <thead>\n",
       "    <tr style=\"text-align: right;\">\n",
       "      <th></th>\n",
       "      <th>Unnamed: 0</th>\n",
       "      <th>school</th>\n",
       "      <th>sex</th>\n",
       "      <th>age</th>\n",
       "      <th>address</th>\n",
       "      <th>famsize</th>\n",
       "      <th>Pstatus</th>\n",
       "      <th>Medu</th>\n",
       "      <th>Fedu</th>\n",
       "      <th>Mjob</th>\n",
       "      <th>...</th>\n",
       "      <th>goout</th>\n",
       "      <th>Dalc</th>\n",
       "      <th>Walc</th>\n",
       "      <th>health</th>\n",
       "      <th>absences</th>\n",
       "      <th>G1</th>\n",
       "      <th>G2</th>\n",
       "      <th>G3</th>\n",
       "      <th>total_grades</th>\n",
       "      <th>total_grade_avg</th>\n",
       "    </tr>\n",
       "  </thead>\n",
       "  <tbody>\n",
       "    <tr>\n",
       "      <th>0</th>\n",
       "      <td>0</td>\n",
       "      <td>0</td>\n",
       "      <td>1</td>\n",
       "      <td>18</td>\n",
       "      <td>1</td>\n",
       "      <td>1</td>\n",
       "      <td>0</td>\n",
       "      <td>4</td>\n",
       "      <td>4</td>\n",
       "      <td>0</td>\n",
       "      <td>...</td>\n",
       "      <td>4</td>\n",
       "      <td>1</td>\n",
       "      <td>1</td>\n",
       "      <td>3</td>\n",
       "      <td>6</td>\n",
       "      <td>5</td>\n",
       "      <td>6</td>\n",
       "      <td>6</td>\n",
       "      <td>17</td>\n",
       "      <td>5.666667</td>\n",
       "    </tr>\n",
       "    <tr>\n",
       "      <th>1</th>\n",
       "      <td>1</td>\n",
       "      <td>0</td>\n",
       "      <td>1</td>\n",
       "      <td>17</td>\n",
       "      <td>1</td>\n",
       "      <td>1</td>\n",
       "      <td>1</td>\n",
       "      <td>1</td>\n",
       "      <td>1</td>\n",
       "      <td>0</td>\n",
       "      <td>...</td>\n",
       "      <td>3</td>\n",
       "      <td>1</td>\n",
       "      <td>1</td>\n",
       "      <td>3</td>\n",
       "      <td>4</td>\n",
       "      <td>5</td>\n",
       "      <td>5</td>\n",
       "      <td>6</td>\n",
       "      <td>16</td>\n",
       "      <td>5.333333</td>\n",
       "    </tr>\n",
       "    <tr>\n",
       "      <th>2</th>\n",
       "      <td>2</td>\n",
       "      <td>0</td>\n",
       "      <td>1</td>\n",
       "      <td>15</td>\n",
       "      <td>1</td>\n",
       "      <td>0</td>\n",
       "      <td>1</td>\n",
       "      <td>1</td>\n",
       "      <td>1</td>\n",
       "      <td>0</td>\n",
       "      <td>...</td>\n",
       "      <td>2</td>\n",
       "      <td>2</td>\n",
       "      <td>3</td>\n",
       "      <td>3</td>\n",
       "      <td>10</td>\n",
       "      <td>7</td>\n",
       "      <td>8</td>\n",
       "      <td>10</td>\n",
       "      <td>25</td>\n",
       "      <td>8.333333</td>\n",
       "    </tr>\n",
       "    <tr>\n",
       "      <th>3</th>\n",
       "      <td>3</td>\n",
       "      <td>0</td>\n",
       "      <td>1</td>\n",
       "      <td>15</td>\n",
       "      <td>1</td>\n",
       "      <td>1</td>\n",
       "      <td>1</td>\n",
       "      <td>4</td>\n",
       "      <td>2</td>\n",
       "      <td>1</td>\n",
       "      <td>...</td>\n",
       "      <td>2</td>\n",
       "      <td>1</td>\n",
       "      <td>1</td>\n",
       "      <td>5</td>\n",
       "      <td>2</td>\n",
       "      <td>15</td>\n",
       "      <td>14</td>\n",
       "      <td>15</td>\n",
       "      <td>44</td>\n",
       "      <td>14.666667</td>\n",
       "    </tr>\n",
       "    <tr>\n",
       "      <th>4</th>\n",
       "      <td>4</td>\n",
       "      <td>0</td>\n",
       "      <td>1</td>\n",
       "      <td>16</td>\n",
       "      <td>1</td>\n",
       "      <td>1</td>\n",
       "      <td>1</td>\n",
       "      <td>3</td>\n",
       "      <td>3</td>\n",
       "      <td>2</td>\n",
       "      <td>...</td>\n",
       "      <td>2</td>\n",
       "      <td>1</td>\n",
       "      <td>2</td>\n",
       "      <td>5</td>\n",
       "      <td>4</td>\n",
       "      <td>6</td>\n",
       "      <td>10</td>\n",
       "      <td>10</td>\n",
       "      <td>26</td>\n",
       "      <td>8.666667</td>\n",
       "    </tr>\n",
       "  </tbody>\n",
       "</table>\n",
       "<p>5 rows × 36 columns</p>\n",
       "</div>"
      ],
      "text/plain": [
       "   Unnamed: 0  school  sex  age  address  famsize  Pstatus  Medu  Fedu  Mjob  \\\n",
       "0           0       0    1   18        1        1        0     4     4     0   \n",
       "1           1       0    1   17        1        1        1     1     1     0   \n",
       "2           2       0    1   15        1        0        1     1     1     0   \n",
       "3           3       0    1   15        1        1        1     4     2     1   \n",
       "4           4       0    1   16        1        1        1     3     3     2   \n",
       "\n",
       "   ...  goout  Dalc  Walc  health  absences  G1  G2  G3  total_grades  \\\n",
       "0  ...      4     1     1       3         6   5   6   6            17   \n",
       "1  ...      3     1     1       3         4   5   5   6            16   \n",
       "2  ...      2     2     3       3        10   7   8  10            25   \n",
       "3  ...      2     1     1       5         2  15  14  15            44   \n",
       "4  ...      2     1     2       5         4   6  10  10            26   \n",
       "\n",
       "   total_grade_avg  \n",
       "0         5.666667  \n",
       "1         5.333333  \n",
       "2         8.333333  \n",
       "3        14.666667  \n",
       "4         8.666667  \n",
       "\n",
       "[5 rows x 36 columns]"
      ]
     },
     "execution_count": 16,
     "metadata": {},
     "output_type": "execute_result"
    }
   ],
   "source": [
    "df.head()"
   ]
  },
  {
   "cell_type": "code",
   "execution_count": 17,
   "metadata": {},
   "outputs": [
    {
     "data": {
      "text/plain": [
       "Index(['Unnamed: 0', 'school', 'sex', 'age', 'address', 'famsize', 'Pstatus',\n",
       "       'Medu', 'Fedu', 'Mjob', 'Fjob', 'reason', 'guardian', 'traveltime',\n",
       "       'studytime', 'failures', 'schoolsup', 'famsup', 'paid', 'activities',\n",
       "       'nursery', 'higher', 'internet', 'romantic', 'famrel', 'freetime',\n",
       "       'goout', 'Dalc', 'Walc', 'health', 'absences', 'G1', 'G2', 'G3',\n",
       "       'total_grades', 'total_grade_avg'],\n",
       "      dtype='object')"
      ]
     },
     "execution_count": 17,
     "metadata": {},
     "output_type": "execute_result"
    }
   ],
   "source": [
    "df.columns"
   ]
  },
  {
   "cell_type": "code",
   "execution_count": 61,
   "metadata": {},
   "outputs": [],
   "source": [
    "#Choose relevant columns\n",
    "df_model = df[['school', 'sex', 'age', 'address', 'famsize', 'Pstatus',\n",
    "       'Medu', 'Fedu', 'Mjob', 'Fjob', 'reason', 'guardian', 'traveltime',\n",
    "       'studytime', 'failures', 'schoolsup', 'famsup', 'paid', 'activities',\n",
    "       'nursery', 'higher', 'internet', 'romantic', 'famrel', 'freetime',\n",
    "       'goout', 'Dalc', 'Walc', 'health', 'absences', 'G1', 'G2', 'G3',\n",
    "       'total_grades', 'total_grade_avg']]"
   ]
  },
  {
   "cell_type": "code",
   "execution_count": 62,
   "metadata": {},
   "outputs": [],
   "source": [
    "#Get dummy data\n",
    "df_dum = pd.get_dummies(df_model)"
   ]
  },
  {
   "cell_type": "code",
   "execution_count": 63,
   "metadata": {},
   "outputs": [],
   "source": [
    "#train test split\n",
    "from sklearn.model_selection import train_test_split\n",
    "X = df_dum.drop('total_grade_avg', axis = 1)\n",
    "y = df_dum.total_grade_avg.values\n",
    "\n",
    "X_train, X_test, y_train, y_test = train_test_split(\n",
    "X, y, test_size=0.33, random_state=42)"
   ]
  },
  {
   "cell_type": "code",
   "execution_count": 64,
   "metadata": {},
   "outputs": [
    {
     "data": {
      "text/html": [
       "<table class=\"simpletable\">\n",
       "<caption>OLS Regression Results</caption>\n",
       "<tr>\n",
       "  <th>Dep. Variable:</th>            <td>y</td>        <th>  R-squared:         </th>  <td>   1.000</td> \n",
       "</tr>\n",
       "<tr>\n",
       "  <th>Model:</th>                   <td>OLS</td>       <th>  Adj. R-squared:    </th>  <td>   1.000</td> \n",
       "</tr>\n",
       "<tr>\n",
       "  <th>Method:</th>             <td>Least Squares</td>  <th>  F-statistic:       </th>  <td>1.803e+30</td>\n",
       "</tr>\n",
       "<tr>\n",
       "  <th>Date:</th>             <td>Mon, 29 Mar 2021</td> <th>  Prob (F-statistic):</th>   <td>  0.00</td>  \n",
       "</tr>\n",
       "<tr>\n",
       "  <th>Time:</th>                 <td>12:17:47</td>     <th>  Log-Likelihood:    </th>  <td>  12210.</td> \n",
       "</tr>\n",
       "<tr>\n",
       "  <th>No. Observations:</th>      <td>   395</td>      <th>  AIC:               </th> <td>-2.435e+04</td>\n",
       "</tr>\n",
       "<tr>\n",
       "  <th>Df Residuals:</th>          <td>   361</td>      <th>  BIC:               </th> <td>-2.422e+04</td>\n",
       "</tr>\n",
       "<tr>\n",
       "  <th>Df Model:</th>              <td>    33</td>      <th>                     </th>      <td> </td>    \n",
       "</tr>\n",
       "<tr>\n",
       "  <th>Covariance Type:</th>      <td>nonrobust</td>    <th>                     </th>      <td> </td>    \n",
       "</tr>\n",
       "</table>\n",
       "<table class=\"simpletable\">\n",
       "<tr>\n",
       "        <td></td>          <th>coef</th>     <th>std err</th>      <th>t</th>      <th>P>|t|</th>  <th>[0.025</th>    <th>0.975]</th>  \n",
       "</tr>\n",
       "<tr>\n",
       "  <th>const</th>        <td>-4.441e-15</td> <td> 9.93e-15</td> <td>   -0.447</td> <td> 0.655</td> <td> -2.4e-14</td> <td> 1.51e-14</td>\n",
       "</tr>\n",
       "<tr>\n",
       "  <th>school</th>       <td>-5.301e-15</td> <td>  1.8e-15</td> <td>   -2.953</td> <td> 0.003</td> <td>-8.83e-15</td> <td>-1.77e-15</td>\n",
       "</tr>\n",
       "<tr>\n",
       "  <th>sex</th>          <td>  1.11e-16</td> <td> 1.15e-15</td> <td>    0.096</td> <td> 0.923</td> <td>-2.16e-15</td> <td> 2.38e-15</td>\n",
       "</tr>\n",
       "<tr>\n",
       "  <th>age</th>          <td> 6.384e-16</td> <td> 4.86e-16</td> <td>    1.314</td> <td> 0.190</td> <td>-3.17e-16</td> <td> 1.59e-15</td>\n",
       "</tr>\n",
       "<tr>\n",
       "  <th>address</th>      <td>  1.11e-15</td> <td> 1.34e-15</td> <td>    0.831</td> <td> 0.406</td> <td>-1.52e-15</td> <td> 3.74e-15</td>\n",
       "</tr>\n",
       "<tr>\n",
       "  <th>famsize</th>      <td> 2.845e-15</td> <td> 1.12e-15</td> <td>    2.537</td> <td> 0.012</td> <td>  6.4e-16</td> <td> 5.05e-15</td>\n",
       "</tr>\n",
       "<tr>\n",
       "  <th>Pstatus</th>      <td>-5.329e-15</td> <td> 1.65e-15</td> <td>   -3.220</td> <td> 0.001</td> <td>-8.58e-15</td> <td>-2.07e-15</td>\n",
       "</tr>\n",
       "<tr>\n",
       "  <th>Medu</th>         <td> 1.388e-15</td> <td> 6.56e-16</td> <td>    2.115</td> <td> 0.035</td> <td> 9.72e-17</td> <td> 2.68e-15</td>\n",
       "</tr>\n",
       "<tr>\n",
       "  <th>Fedu</th>         <td> 4.441e-16</td> <td> 6.09e-16</td> <td>    0.730</td> <td> 0.466</td> <td>-7.53e-16</td> <td> 1.64e-15</td>\n",
       "</tr>\n",
       "<tr>\n",
       "  <th>Mjob</th>         <td>-6.661e-16</td> <td> 4.71e-16</td> <td>   -1.413</td> <td> 0.158</td> <td>-1.59e-15</td> <td> 2.61e-16</td>\n",
       "</tr>\n",
       "<tr>\n",
       "  <th>Fjob</th>         <td> 1.221e-15</td> <td> 5.95e-16</td> <td>    2.053</td> <td> 0.041</td> <td> 5.15e-17</td> <td> 2.39e-15</td>\n",
       "</tr>\n",
       "<tr>\n",
       "  <th>reason</th>       <td>         0</td> <td> 4.19e-16</td> <td>        0</td> <td> 1.000</td> <td>-8.24e-16</td> <td> 8.24e-16</td>\n",
       "</tr>\n",
       "<tr>\n",
       "  <th>guardian</th>     <td>-3.886e-16</td> <td> 8.59e-16</td> <td>   -0.452</td> <td> 0.651</td> <td>-2.08e-15</td> <td>  1.3e-15</td>\n",
       "</tr>\n",
       "<tr>\n",
       "  <th>traveltime</th>   <td> 9.437e-16</td> <td> 7.79e-16</td> <td>    1.212</td> <td> 0.226</td> <td>-5.88e-16</td> <td> 2.47e-15</td>\n",
       "</tr>\n",
       "<tr>\n",
       "  <th>studytime</th>    <td>-4.163e-16</td> <td>  6.6e-16</td> <td>   -0.630</td> <td> 0.529</td> <td>-1.72e-15</td> <td> 8.83e-16</td>\n",
       "</tr>\n",
       "<tr>\n",
       "  <th>failures</th>     <td>-7.216e-16</td> <td> 7.78e-16</td> <td>   -0.928</td> <td> 0.354</td> <td>-2.25e-15</td> <td> 8.08e-16</td>\n",
       "</tr>\n",
       "<tr>\n",
       "  <th>schoolsup</th>    <td> 3.775e-15</td> <td> 1.58e-15</td> <td>    2.390</td> <td> 0.017</td> <td> 6.69e-16</td> <td> 6.88e-15</td>\n",
       "</tr>\n",
       "<tr>\n",
       "  <th>famsup</th>       <td>-5.551e-16</td> <td> 1.11e-15</td> <td>   -0.500</td> <td> 0.617</td> <td>-2.74e-15</td> <td> 1.63e-15</td>\n",
       "</tr>\n",
       "<tr>\n",
       "  <th>paid</th>         <td> -2.22e-16</td> <td> 1.09e-15</td> <td>   -0.204</td> <td> 0.839</td> <td>-2.37e-15</td> <td> 1.92e-15</td>\n",
       "</tr>\n",
       "<tr>\n",
       "  <th>activities</th>   <td> 1.388e-16</td> <td> 1.02e-15</td> <td>    0.136</td> <td> 0.892</td> <td>-1.87e-15</td> <td> 2.15e-15</td>\n",
       "</tr>\n",
       "<tr>\n",
       "  <th>nursery</th>      <td>-8.882e-16</td> <td> 1.26e-15</td> <td>   -0.706</td> <td> 0.480</td> <td>-3.36e-15</td> <td> 1.58e-15</td>\n",
       "</tr>\n",
       "<tr>\n",
       "  <th>higher</th>       <td> 1.221e-15</td> <td> 2.46e-15</td> <td>    0.497</td> <td> 0.619</td> <td>-3.61e-15</td> <td> 6.05e-15</td>\n",
       "</tr>\n",
       "<tr>\n",
       "  <th>internet</th>     <td>-2.665e-15</td> <td> 1.41e-15</td> <td>   -1.887</td> <td> 0.060</td> <td>-5.44e-15</td> <td> 1.13e-16</td>\n",
       "</tr>\n",
       "<tr>\n",
       "  <th>romantic</th>     <td>-4.441e-16</td> <td> 1.09e-15</td> <td>   -0.408</td> <td> 0.684</td> <td>-2.59e-15</td> <td>  1.7e-15</td>\n",
       "</tr>\n",
       "<tr>\n",
       "  <th>famrel</th>       <td>-4.441e-16</td> <td>  5.7e-16</td> <td>   -0.780</td> <td> 0.436</td> <td>-1.56e-15</td> <td> 6.76e-16</td>\n",
       "</tr>\n",
       "<tr>\n",
       "  <th>freetime</th>     <td> 5.551e-17</td> <td> 5.44e-16</td> <td>    0.102</td> <td> 0.919</td> <td>-1.01e-15</td> <td> 1.12e-15</td>\n",
       "</tr>\n",
       "<tr>\n",
       "  <th>goout</th>        <td>-2.776e-17</td> <td> 5.22e-16</td> <td>   -0.053</td> <td> 0.958</td> <td>-1.05e-15</td> <td> 9.98e-16</td>\n",
       "</tr>\n",
       "<tr>\n",
       "  <th>Dalc</th>         <td> 4.441e-16</td> <td> 7.42e-16</td> <td>    0.598</td> <td> 0.550</td> <td>-1.02e-15</td> <td>  1.9e-15</td>\n",
       "</tr>\n",
       "<tr>\n",
       "  <th>Walc</th>         <td>-3.331e-16</td> <td>  5.6e-16</td> <td>   -0.595</td> <td> 0.552</td> <td>-1.43e-15</td> <td> 7.68e-16</td>\n",
       "</tr>\n",
       "<tr>\n",
       "  <th>health</th>       <td> 3.053e-16</td> <td> 3.66e-16</td> <td>    0.834</td> <td> 0.405</td> <td>-4.15e-16</td> <td> 1.03e-15</td>\n",
       "</tr>\n",
       "<tr>\n",
       "  <th>absences</th>     <td>-6.939e-18</td> <td> 6.71e-17</td> <td>   -0.103</td> <td> 0.918</td> <td>-1.39e-16</td> <td> 1.25e-16</td>\n",
       "</tr>\n",
       "<tr>\n",
       "  <th>G1</th>           <td>    0.0833</td> <td> 2.83e-16</td> <td> 2.94e+14</td> <td> 0.000</td> <td>    0.083</td> <td>    0.083</td>\n",
       "</tr>\n",
       "<tr>\n",
       "  <th>G2</th>           <td>    0.0833</td> <td> 3.58e-16</td> <td> 2.33e+14</td> <td> 0.000</td> <td>    0.083</td> <td>    0.083</td>\n",
       "</tr>\n",
       "<tr>\n",
       "  <th>G3</th>           <td>    0.0833</td> <td> 2.78e-16</td> <td>    3e+14</td> <td> 0.000</td> <td>    0.083</td> <td>    0.083</td>\n",
       "</tr>\n",
       "<tr>\n",
       "  <th>total_grades</th> <td>    0.2500</td> <td> 4.37e-17</td> <td> 5.72e+15</td> <td> 0.000</td> <td>    0.250</td> <td>    0.250</td>\n",
       "</tr>\n",
       "</table>\n",
       "<table class=\"simpletable\">\n",
       "<tr>\n",
       "  <th>Omnibus:</th>       <td>18.004</td> <th>  Durbin-Watson:     </th> <td>   0.352</td>\n",
       "</tr>\n",
       "<tr>\n",
       "  <th>Prob(Omnibus):</th> <td> 0.000</td> <th>  Jarque-Bera (JB):  </th> <td>  22.669</td>\n",
       "</tr>\n",
       "<tr>\n",
       "  <th>Skew:</th>          <td>-0.409</td> <th>  Prob(JB):          </th> <td>1.20e-05</td>\n",
       "</tr>\n",
       "<tr>\n",
       "  <th>Kurtosis:</th>      <td> 3.841</td> <th>  Cond. No.          </th> <td>1.04e+16</td>\n",
       "</tr>\n",
       "</table><br/><br/>Notes:<br/>[1] Standard Errors assume that the covariance matrix of the errors is correctly specified.<br/>[2] The smallest eigenvalue is 6.99e-27. This might indicate that there are<br/>strong multicollinearity problems or that the design matrix is singular."
      ],
      "text/plain": [
       "<class 'statsmodels.iolib.summary.Summary'>\n",
       "\"\"\"\n",
       "                            OLS Regression Results                            \n",
       "==============================================================================\n",
       "Dep. Variable:                      y   R-squared:                       1.000\n",
       "Model:                            OLS   Adj. R-squared:                  1.000\n",
       "Method:                 Least Squares   F-statistic:                 1.803e+30\n",
       "Date:                Mon, 29 Mar 2021   Prob (F-statistic):               0.00\n",
       "Time:                        12:17:47   Log-Likelihood:                 12210.\n",
       "No. Observations:                 395   AIC:                        -2.435e+04\n",
       "Df Residuals:                     361   BIC:                        -2.422e+04\n",
       "Df Model:                          33                                         \n",
       "Covariance Type:            nonrobust                                         \n",
       "================================================================================\n",
       "                   coef    std err          t      P>|t|      [0.025      0.975]\n",
       "--------------------------------------------------------------------------------\n",
       "const        -4.441e-15   9.93e-15     -0.447      0.655    -2.4e-14    1.51e-14\n",
       "school       -5.301e-15    1.8e-15     -2.953      0.003   -8.83e-15   -1.77e-15\n",
       "sex            1.11e-16   1.15e-15      0.096      0.923   -2.16e-15    2.38e-15\n",
       "age           6.384e-16   4.86e-16      1.314      0.190   -3.17e-16    1.59e-15\n",
       "address        1.11e-15   1.34e-15      0.831      0.406   -1.52e-15    3.74e-15\n",
       "famsize       2.845e-15   1.12e-15      2.537      0.012     6.4e-16    5.05e-15\n",
       "Pstatus      -5.329e-15   1.65e-15     -3.220      0.001   -8.58e-15   -2.07e-15\n",
       "Medu          1.388e-15   6.56e-16      2.115      0.035    9.72e-17    2.68e-15\n",
       "Fedu          4.441e-16   6.09e-16      0.730      0.466   -7.53e-16    1.64e-15\n",
       "Mjob         -6.661e-16   4.71e-16     -1.413      0.158   -1.59e-15    2.61e-16\n",
       "Fjob          1.221e-15   5.95e-16      2.053      0.041    5.15e-17    2.39e-15\n",
       "reason                0   4.19e-16          0      1.000   -8.24e-16    8.24e-16\n",
       "guardian     -3.886e-16   8.59e-16     -0.452      0.651   -2.08e-15     1.3e-15\n",
       "traveltime    9.437e-16   7.79e-16      1.212      0.226   -5.88e-16    2.47e-15\n",
       "studytime    -4.163e-16    6.6e-16     -0.630      0.529   -1.72e-15    8.83e-16\n",
       "failures     -7.216e-16   7.78e-16     -0.928      0.354   -2.25e-15    8.08e-16\n",
       "schoolsup     3.775e-15   1.58e-15      2.390      0.017    6.69e-16    6.88e-15\n",
       "famsup       -5.551e-16   1.11e-15     -0.500      0.617   -2.74e-15    1.63e-15\n",
       "paid          -2.22e-16   1.09e-15     -0.204      0.839   -2.37e-15    1.92e-15\n",
       "activities    1.388e-16   1.02e-15      0.136      0.892   -1.87e-15    2.15e-15\n",
       "nursery      -8.882e-16   1.26e-15     -0.706      0.480   -3.36e-15    1.58e-15\n",
       "higher        1.221e-15   2.46e-15      0.497      0.619   -3.61e-15    6.05e-15\n",
       "internet     -2.665e-15   1.41e-15     -1.887      0.060   -5.44e-15    1.13e-16\n",
       "romantic     -4.441e-16   1.09e-15     -0.408      0.684   -2.59e-15     1.7e-15\n",
       "famrel       -4.441e-16    5.7e-16     -0.780      0.436   -1.56e-15    6.76e-16\n",
       "freetime      5.551e-17   5.44e-16      0.102      0.919   -1.01e-15    1.12e-15\n",
       "goout        -2.776e-17   5.22e-16     -0.053      0.958   -1.05e-15    9.98e-16\n",
       "Dalc          4.441e-16   7.42e-16      0.598      0.550   -1.02e-15     1.9e-15\n",
       "Walc         -3.331e-16    5.6e-16     -0.595      0.552   -1.43e-15    7.68e-16\n",
       "health        3.053e-16   3.66e-16      0.834      0.405   -4.15e-16    1.03e-15\n",
       "absences     -6.939e-18   6.71e-17     -0.103      0.918   -1.39e-16    1.25e-16\n",
       "G1               0.0833   2.83e-16   2.94e+14      0.000       0.083       0.083\n",
       "G2               0.0833   3.58e-16   2.33e+14      0.000       0.083       0.083\n",
       "G3               0.0833   2.78e-16      3e+14      0.000       0.083       0.083\n",
       "total_grades     0.2500   4.37e-17   5.72e+15      0.000       0.250       0.250\n",
       "==============================================================================\n",
       "Omnibus:                       18.004   Durbin-Watson:                   0.352\n",
       "Prob(Omnibus):                  0.000   Jarque-Bera (JB):               22.669\n",
       "Skew:                          -0.409   Prob(JB):                     1.20e-05\n",
       "Kurtosis:                       3.841   Cond. No.                     1.04e+16\n",
       "==============================================================================\n",
       "\n",
       "Notes:\n",
       "[1] Standard Errors assume that the covariance matrix of the errors is correctly specified.\n",
       "[2] The smallest eigenvalue is 6.99e-27. This might indicate that there are\n",
       "strong multicollinearity problems or that the design matrix is singular.\n",
       "\"\"\""
      ]
     },
     "execution_count": 64,
     "metadata": {},
     "output_type": "execute_result"
    }
   ],
   "source": [
    "#multiple linear regression\n",
    "import statsmodels.api as sm\n",
    "\n",
    "X_sm = X = sm.add_constant(X)\n",
    "model = sm.OLS(y,X_sm)\n",
    "model.fit().summary()"
   ]
  },
  {
   "cell_type": "code",
   "execution_count": 65,
   "metadata": {},
   "outputs": [
    {
     "data": {
      "text/plain": [
       "-2.4180993907555494e-15"
      ]
     },
     "execution_count": 65,
     "metadata": {},
     "output_type": "execute_result"
    }
   ],
   "source": [
    "from sklearn.linear_model import LinearRegression, Lasso\n",
    "from sklearn.model_selection import cross_val_score\n",
    "\n",
    "lm = LinearRegression()\n",
    "lm.fit(X_train, y_train)\n",
    "\n",
    "np.mean(cross_val_score(lm, X_train, y_train, scoring = 'neg_mean_absolute_error', cv = 3))"
   ]
  },
  {
   "cell_type": "code",
   "execution_count": 66,
   "metadata": {},
   "outputs": [
    {
     "data": {
      "text/plain": [
       "-0.007495661283232295"
      ]
     },
     "execution_count": 66,
     "metadata": {},
     "output_type": "execute_result"
    }
   ],
   "source": [
    "#Lasso Regression\n",
    "lm_l = Lasso(alpha=.1)\n",
    "lm_l.fit(X_train, y_train)\n",
    "np.mean(cross_val_score(lm_l, X_train, y_train, scoring = 'neg_mean_absolute_error', cv = 3))"
   ]
  },
  {
   "cell_type": "code",
   "execution_count": 72,
   "metadata": {},
   "outputs": [
    {
     "data": {
      "text/plain": [
       "[<matplotlib.lines.Line2D at 0x1f3471d4460>]"
      ]
     },
     "execution_count": 72,
     "metadata": {},
     "output_type": "execute_result"
    },
    {
     "data": {
      "image/png": "[encoded data removed]",
      "text/plain": [
       "<Figure size 432x288 with 1 Axes>"
      ]
     },
     "metadata": {
      "needs_background": "light"
     },
     "output_type": "display_data"
    }
   ],
   "source": [
    "alpha = []\n",
    "error = []\n",
    "\n",
    "for i in range(1,100):\n",
    "    alpha.append(i/10)\n",
    "    lml = Lasso(alpha=(i/10))\n",
    "    error.append(np.mean(cross_val_score(lml, X_train, y_train, scoring = 'neg_mean_absolute_error', cv = 3)))\n",
    "plt.plot(alpha,error)"
   ]
  },
  {
   "cell_type": "code",
   "execution_count": 73,
   "metadata": {},
   "outputs": [
    {
     "data": {
      "text/html": [
       "<div>\n",
       "<style scoped>\n",
       "    .dataframe tbody tr th:only-of-type {\n",
       "        vertical-align: middle;\n",
       "    }\n",
       "\n",
       "    .dataframe tbody tr th {\n",
       "        vertical-align: top;\n",
       "    }\n",
       "\n",
       "    .dataframe thead th {\n",
       "        text-align: right;\n",
       "    }\n",
       "</style>\n",
       "<table border=\"1\" class=\"dataframe\">\n",
       "  <thead>\n",
       "    <tr style=\"text-align: right;\">\n",
       "      <th></th>\n",
       "      <th>alpha</th>\n",
       "      <th>error</th>\n",
       "    </tr>\n",
       "  </thead>\n",
       "  <tbody>\n",
       "    <tr>\n",
       "      <th>0</th>\n",
       "      <td>0.1</td>\n",
       "      <td>-0.007496</td>\n",
       "    </tr>\n",
       "  </tbody>\n",
       "</table>\n",
       "</div>"
      ],
      "text/plain": [
       "   alpha     error\n",
       "0    0.1 -0.007496"
      ]
     },
     "execution_count": 73,
     "metadata": {},
     "output_type": "execute_result"
    }
   ],
   "source": [
    "err = tuple(zip(alpha,error))\n",
    "df_err = pd.DataFrame(err, columns = ['alpha','error'])\n",
    "df_err[df_err.error == max(df_err.error)]"
   ]
  },
  {
   "cell_type": "code",
   "execution_count": 74,
   "metadata": {},
   "outputs": [
    {
     "data": {
      "text/plain": [
       "-0.06531565656565715"
      ]
     },
     "execution_count": 74,
     "metadata": {},
     "output_type": "execute_result"
    }
   ],
   "source": [
    "#random forest\n",
    "from sklearn.ensemble import RandomForestRegressor\n",
    "rf = RandomForestRegressor()\n",
    "np.mean(cross_val_score(rf, X_train, y_train, scoring = 'neg_mean_absolute_error', cv = 3))"
   ]
  },
  {
   "cell_type": "code",
   "execution_count": 75,
   "metadata": {},
   "outputs": [],
   "source": [
    "# tune models GridSearchCV\n",
    "from sklearn.model_selection import GridSearchCV\n",
    "parameters = {'n_estimators':range(10,300,10), 'criterion':('mse','mae'), 'max_features':('auto','sqrt','log2')}\n",
    "gs = GridSearchCV(rf, parameters, scoring = 'neg_mean_absolute_error', cv = 3)"
   ]
  },
  {
   "cell_type": "code",
   "execution_count": 76,
   "metadata": {},
   "outputs": [
    {
     "data": {
      "text/plain": [
       "GridSearchCV(cv=3, estimator=RandomForestRegressor(),\n",
       "             param_grid={'criterion': ('mse', 'mae'),\n",
       "                         'max_features': ('auto', 'sqrt', 'log2'),\n",
       "                         'n_estimators': range(10, 300, 10)},\n",
       "             scoring='neg_mean_absolute_error')"
      ]
     },
     "execution_count": 76,
     "metadata": {},
     "output_type": "execute_result"
    }
   ],
   "source": [
    "gs.fit(X_train, y_train)"
   ]
  },
  {
   "cell_type": "code",
   "execution_count": 77,
   "metadata": {
    "scrolled": true
   },
   "outputs": [
    {
     "data": {
      "text/plain": [
       "-0.06062121212121017"
      ]
     },
     "execution_count": 77,
     "metadata": {},
     "output_type": "execute_result"
    }
   ],
   "source": [
    "gs.best_score_"
   ]
  },
  {
   "cell_type": "code",
   "execution_count": 78,
   "metadata": {},
   "outputs": [
    {
     "data": {
      "text/plain": [
       "RandomForestRegressor(n_estimators=250)"
      ]
     },
     "execution_count": 78,
     "metadata": {},
     "output_type": "execute_result"
    }
   ],
   "source": [
    "gs.best_estimator_"
   ]
  },
  {
   "cell_type": "code",
   "execution_count": 79,
   "metadata": {},
   "outputs": [],
   "source": [
    "#Test ensembles\n",
    "tpred_lm = lm.predict(X_test)\n",
    "tpred_lml = lm_l.predict(X_test)\n",
    "tpred_rf = gs.best_estimator_.predict(X_test)"
   ]
  },
  {
   "cell_type": "code",
   "execution_count": 80,
   "metadata": {},
   "outputs": [
    {
     "data": {
      "text/plain": [
       "5.369750445820605e-15"
      ]
     },
     "execution_count": 80,
     "metadata": {},
     "output_type": "execute_result"
    }
   ],
   "source": [
    "from sklearn.metrics import mean_absolute_error\n",
    "mean_absolute_error(y_test, tpred_lm)"
   ]
  },
  {
   "cell_type": "code",
   "execution_count": 81,
   "metadata": {},
   "outputs": [
    {
     "data": {
      "text/plain": [
       "0.008254175217564896"
      ]
     },
     "execution_count": 81,
     "metadata": {},
     "output_type": "execute_result"
    }
   ],
   "source": [
    "mean_absolute_error(y_test, tpred_lml)"
   ]
  },
  {
   "cell_type": "code",
   "execution_count": 82,
   "metadata": {},
   "outputs": [
    {
     "data": {
      "text/plain": [
       "0.05431043256997613"
      ]
     },
     "execution_count": 82,
     "metadata": {},
     "output_type": "execute_result"
    }
   ],
   "source": [
    "mean_absolute_error(y_test, tpred_rf)"
   ]
  },
  {
   "cell_type": "code",
   "execution_count": null,
   "metadata": {},
   "outputs": [],
   "source": []
  }
 ],
 "metadata": {
  "kernelspec": {
   "display_name": "Python 3",
   "language": "python",
   "name": "python3"
  },
  "language_info": {
   "codemirror_mode": {
    "name": "ipython",
    "version": 3
   },
   "file_extension": ".py",
   "mimetype": "text/x-python",
   "name": "python",
   "nbconvert_exporter": "python",
   "pygments_lexer": "ipython3",
   "version": "3.8.5"
  }
 },
 "nbformat": 4,
 "nbformat_minor": 4
}
